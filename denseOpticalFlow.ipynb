{
 "cells": [
  {
   "cell_type": "code",
   "execution_count": 1,
   "id": "c3fd99a8",
   "metadata": {},
   "outputs": [],
   "source": [
    "import numpy as np\n",
    "import cv2 as cv\n",
    "import os\n",
    "\n",
    "class DenseOpticalFlow:\n",
    "    \"\"\"http://www.diva-portal.org/smash/get/diva2:273847/FULLTEXT01.pdf\"\"\"\n",
    "\n",
    "    def __init__(self, input_video_path):\n",
    "        self.input_video = input_video_path\n",
    "\n",
    "    def detect(self):\n",
    "        cap = cv.VideoCapture(self.input_video)\n",
    "        ret, frameone = cap.read()\n",
    "        prvchannel = cv.cvtColor(frameone, cv.COLOR_BGR2GRAY)\n",
    "        maskone = np.zeros_like(frameone)\n",
    "        maskone[..., 1] = 255\n",
    "        while True:\n",
    "            ret, frame = cap.read()\n",
    "            cv.imshow(\"input\", frame)\n",
    "            graycolor = cv.cvtColor(frame, cv.COLOR_BGR2GRAY)\n",
    "            \"\"\"\n",
    "            prev\tfirst 8-bit single-channel input image.\n",
    "            next\tsecond input image of the same size and the same type as prev.\n",
    "            flow\tcomputed flow image that has the same size as prev and type CV_32FC2.\n",
    "            pyr_scale\tparameter, specifying the image scale (<1) to build pyramids for each image; pyr_scale=0.5 means a classical pyramid, where each next layer is twice smaller than the previous one.\n",
    "            levels\tnumber of pyramid layers including the initial image; levels=1 means that no extra layers are created and only the original images are used.\n",
    "            winsize\taveraging window size; larger values increase the algorithm robustness to image noise and give more chances for fast motion detection, but yield more blurred motion field.\n",
    "            iterations\tnumber of iterations the algorithm does at each pyramid level.\n",
    "            poly_n\tsize of the pixel neighborhood used to find polynomial expansion in each pixel; larger values mean that the image will be approximated with smoother surfaces, yielding more robust algorithm and more blurred motion field, typically poly_n =5 or 7.\n",
    "            poly_sigma\tstandard deviation of the Gaussian that is used to smooth derivatives used as a basis for the polynomial expansion; for poly_n=5, you can set poly_sigma=1.1, for poly_n=7, a good value would be poly_sigma=1.5.\n",
    "            flags\toperation flags that can be a combination of the following:\n",
    "            \n",
    "                OPTFLOW_USE_INITIAL_FLOW uses the input flow as an initial flow approximation.\n",
    "                OPTFLOW_FARNEBACK_GAUSSIAN uses the Gaussian winsize×winsize filter instead of a box filter of the same size for optical flow estimation; usually, this option gives z more accurate flow than with a box filter, at the cost of lower speed; normally, winsize for a Gaussian window should be set to a larger value to achieve the same level of robustness.\n",
    "            \"\"\"\n",
    "            flow = cv.calcOpticalFlowFarneback(prvchannel, graycolor, None, 0.5, 3, 15, 3, 5, 1.2, 0)\n",
    "            magnitude, angle = cv.cartToPolar(flow[..., 0], flow[..., 1])\n",
    "            maskone[..., 0] = angle * 180 / np.pi / 2\n",
    "            maskone[..., 2] = cv.normalize(magnitude, None, 0, 255, cv.NORM_MINMAX)\n",
    "            bgr = cv.cvtColor(maskone, cv.COLOR_HSV2BGR)\n",
    "            cv.imshow('frame', bgr)\n",
    "            k = cv.waitKey(30) & 0xff\n",
    "            if k == 27:\n",
    "                break\n",
    "            elif k == ord('s'):\n",
    "                cv.imwrite('opticalfb.png', frame)\n",
    "                cv.imwrite('opticalhsv.png', bgr)\n",
    "            prvchannel = graycolor"
   ]
  },
  {
   "cell_type": "code",
   "execution_count": null,
   "id": "6e2914fc",
   "metadata": {},
   "outputs": [],
   "source": [
    "### 5. Farneback Dense Optical Flow ###\n",
    "input_video = os.path.join('videoplayback.mp4')\n",
    "dense_optical_flow_obj = DenseOpticalFlow(input_video)\n",
    "dense_optical_flow_obj.detect()"
   ]
  },
  {
   "cell_type": "code",
   "execution_count": null,
   "id": "94946e85",
   "metadata": {},
   "outputs": [],
   "source": []
  },
  {
   "cell_type": "code",
   "execution_count": null,
   "id": "808f7508",
   "metadata": {},
   "outputs": [],
   "source": []
  }
 ],
 "metadata": {
  "kernelspec": {
   "display_name": "Python 3",
   "language": "python",
   "name": "python3"
  },
  "language_info": {
   "codemirror_mode": {
    "name": "ipython",
    "version": 3
   },
   "file_extension": ".py",
   "mimetype": "text/x-python",
   "name": "python",
   "nbconvert_exporter": "python",
   "pygments_lexer": "ipython3",
   "version": "3.8.8"
  }
 },
 "nbformat": 4,
 "nbformat_minor": 5
}
