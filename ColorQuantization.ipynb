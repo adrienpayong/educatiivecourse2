{
 "cells": [
  {
   "cell_type": "code",
   "execution_count": 24,
   "id": "9c14544d",
   "metadata": {},
   "outputs": [],
   "source": [
    "import numpy as np\n",
    "import cv2 as cv\n",
    "import os\n",
    "\n",
    "\n",
    "class ColorQuantization:\n",
    "    def __init__(self,image_path):\n",
    "        self.image_path = image_path\n",
    "\n",
    "    def quantize(self):\n",
    "        image = cv.imread(self.image_path)\n",
    "        ## Transform image into 'data'\n",
    "        Zim = image.reshape((-1, 3))\n",
    "        # convert to np.float32\n",
    "        Zim = np.float32(Zim)\n",
    "        # Define the algorithm termination criteria (maximum number of iterations and/or required accuracy):\n",
    "        criteria = (cv.TERM_CRITERIA_EPS + cv.TERM_CRITERIA_MAX_ITER, 10, 1.0)\n",
    "        ## Apply K-means clustering algorithm:\n",
    "        K = 2\n",
    "        ret, label, center = cv.kmeans(Zim, K, None, criteria, 10, cv.KMEANS_RANDOM_CENTERS)\n",
    "        # Now convert back into uint8, and make original image\n",
    "        # Convert center to uint8:\n",
    "        center = np.uint8(center)\n",
    "        # Replace pixel values with their center value:\n",
    "        resimage = center[label.flatten()]\n",
    "        res2image = resimage.reshape((image.shape))\n",
    "        cv.imshow('res2image', res2image)\n",
    "        cv.waitKey(0)\n",
    "        cv.destroyAllWindows()"
   ]
  },
  {
   "cell_type": "code",
   "execution_count": 25,
   "id": "10d4a8da",
   "metadata": {},
   "outputs": [],
   "source": [
    "### 9. Color Quantization ###\n",
    "image_path = os.path.join(\"download.jpeg\")\n",
    "color_quantize_obj = ColorQuantization(image_path)\n",
    "color_quantize_obj.quantize()"
   ]
  },
  {
   "cell_type": "code",
   "execution_count": null,
   "id": "c8adc7ec",
   "metadata": {},
   "outputs": [],
   "source": [
    "import matplotlib.pyplot as plt\n",
    "def plt_imshow(image):\n",
    "\t# convert the image frame BGR to RGB color space and display it\n",
    "\timage = cv2.cvtColor(image, cv2.COLOR_BGR2RGB)\n",
    "\tplt.imshow(image)\n",
    "\tplt.grid(False)\n",
    "\tplt.show()\n",
    "\n"
   ]
  },
  {
   "cell_type": "code",
   "execution_count": null,
   "id": "72f17239",
   "metadata": {},
   "outputs": [],
   "source": [
    "image0 = cv2.imread(\"download.jpeg\")\n",
    "image1 = cv2.imread(\"res2.jpeg\")"
   ]
  },
  {
   "cell_type": "code",
   "execution_count": null,
   "id": "49ad731e",
   "metadata": {},
   "outputs": [],
   "source": [
    "plt.imshow(image0)\n",
    "plt.imshow(image1)"
   ]
  },
  {
   "cell_type": "code",
   "execution_count": 12,
   "id": "cbee9364",
   "metadata": {},
   "outputs": [
    {
     "ename": "error",
     "evalue": "OpenCV(4.5.4) :-1: error: (-5:Bad argument) in function 'imshow'\n> Overload resolution failed:\n>  - imshow() missing required argument 'mat' (pos 2)\n>  - imshow() missing required argument 'mat' (pos 2)\n>  - imshow() missing required argument 'mat' (pos 2)\n",
     "output_type": "error",
     "traceback": [
      "\u001b[1;31m---------------------------------------------------------------------------\u001b[0m",
      "\u001b[1;31merror\u001b[0m                                     Traceback (most recent call last)",
      "\u001b[1;32m<ipython-input-12-e83e2cc609a2>\u001b[0m in \u001b[0;36m<module>\u001b[1;34m\u001b[0m\n\u001b[0;32m      1\u001b[0m \u001b[0mimage1\u001b[0m \u001b[1;33m=\u001b[0m \u001b[0mcv\u001b[0m\u001b[1;33m.\u001b[0m\u001b[0mimread\u001b[0m\u001b[1;33m(\u001b[0m\u001b[1;34m\"res2.jpeg\"\u001b[0m\u001b[1;33m)\u001b[0m\u001b[1;33m\u001b[0m\u001b[1;33m\u001b[0m\u001b[0m\n\u001b[1;32m----> 2\u001b[1;33m \u001b[0mcv\u001b[0m\u001b[1;33m.\u001b[0m\u001b[0mimshow\u001b[0m\u001b[1;33m(\u001b[0m\u001b[0mimage1\u001b[0m\u001b[1;33m)\u001b[0m\u001b[1;33m\u001b[0m\u001b[1;33m\u001b[0m\u001b[0m\n\u001b[0m",
      "\u001b[1;31merror\u001b[0m: OpenCV(4.5.4) :-1: error: (-5:Bad argument) in function 'imshow'\n> Overload resolution failed:\n>  - imshow() missing required argument 'mat' (pos 2)\n>  - imshow() missing required argument 'mat' (pos 2)\n>  - imshow() missing required argument 'mat' (pos 2)\n"
     ]
    }
   ],
   "source": [
    "image1 = cv.imread(\"res2.jpeg\")\n",
    "cv.imshow(image1)"
   ]
  },
  {
   "cell_type": "code",
   "execution_count": null,
   "id": "9d5e5819",
   "metadata": {},
   "outputs": [],
   "source": []
  }
 ],
 "metadata": {
  "kernelspec": {
   "display_name": "Python 3",
   "language": "python",
   "name": "python3"
  },
  "language_info": {
   "codemirror_mode": {
    "name": "ipython",
    "version": 3
   },
   "file_extension": ".py",
   "mimetype": "text/x-python",
   "name": "python",
   "nbconvert_exporter": "python",
   "pygments_lexer": "ipython3",
   "version": "3.8.8"
  }
 },
 "nbformat": 4,
 "nbformat_minor": 5
}
