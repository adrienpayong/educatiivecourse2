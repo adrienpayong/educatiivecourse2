{
  "nbformat": 4,
  "nbformat_minor": 0,
  "metadata": {
    "colab": {
      "name": "reshape.ipynb",
      "provenance": [],
      "authorship_tag": "ABX9TyPczFZ/a5M5dmU1OV9UAehP",
      "include_colab_link": true
    },
    "kernelspec": {
      "name": "python3",
      "display_name": "Python 3"
    },
    "language_info": {
      "name": "python"
    }
  },
  "cells": [
    {
      "cell_type": "markdown",
      "metadata": {
        "id": "view-in-github",
        "colab_type": "text"
      },
      "source": [
        "<a href=\"https://colab.research.google.com/github/adrienpayong/educatiivecourse2/blob/main/reshape.ipynb\" target=\"_parent\"><img src=\"https://colab.research.google.com/assets/colab-badge.svg\" alt=\"Open In Colab\"/></a>"
      ]
    },
    {
      "cell_type": "code",
      "source": [
        "## Import the required libraries\n",
        "from tensorflow.keras.datasets import mnist\n",
        "from matplotlib import pyplot as plt"
      ],
      "metadata": {
        "id": "qjOcHT2bnuT8"
      },
      "execution_count": null,
      "outputs": []
    },
    {
      "cell_type": "code",
      "execution_count": null,
      "metadata": {
        "id": "FEcqkAIoni23"
      },
      "outputs": [],
      "source": [
        "# Function to reshape data \n",
        "def data_reshape(data, shape):\n",
        "    if len(shape)==4 :\n",
        "        reshape_data=data.reshape(shape[0], shape[1], shape[2], shape[3])\n",
        "        return reshape_data\n",
        "    else:\n",
        "        print(\"The length of reshape array is not 4\")"
      ]
    },
    {
      "cell_type": "code",
      "source": [
        "\n",
        "#Loading MNIST dataset\n",
        "(X_train, y_train), (X_test, y_test) = mnist.load_data()\n",
        "reshape_train_size= list(X_train.shape)\n",
        "reshape_train_size.append(1)\n",
        "X_train=data_reshape(X_train, reshape_train_size)\n",
        "reshape_test_size= list(X_test.shape)\n",
        "reshape_test_size.append(1)\n",
        "X_test=data_reshape(X_test, reshape_test_size)"
      ],
      "metadata": {
        "colab": {
          "base_uri": "https://localhost:8080/"
        },
        "id": "m6pG5VsVnqo3",
        "outputId": "017020ca-2dfc-487d-f155-77494c09fc6d"
      },
      "execution_count": null,
      "outputs": [
        {
          "output_type": "stream",
          "name": "stdout",
          "text": [
            "Downloading data from https://storage.googleapis.com/tensorflow/tf-keras-datasets/mnist.npz\n",
            "11493376/11490434 [==============================] - 0s 0us/step\n",
            "11501568/11490434 [==============================] - 0s 0us/step\n"
          ]
        }
      ]
    },
    {
      "cell_type": "code",
      "source": [
        "print(\"Shape of X_train : \", X_train.shape)\n",
        "print(\"Shape of X_test : \", X_test.shape)"
      ],
      "metadata": {
        "id": "YJaCiLWFpcEN",
        "outputId": "e7d6b503-8343-4123-d98e-e682458aaf9d",
        "colab": {
          "base_uri": "https://localhost:8080/"
        }
      },
      "execution_count": null,
      "outputs": [
        {
          "output_type": "stream",
          "name": "stdout",
          "text": [
            "Shape of X_train :  (60000, 28, 28, 1)\n",
            "Shape of X_test :  (10000, 28, 28, 1)\n"
          ]
        }
      ]
    }
  ]
}