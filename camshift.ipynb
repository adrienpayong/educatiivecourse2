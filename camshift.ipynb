{
 "cells": [
  {
   "cell_type": "code",
   "execution_count": 6,
   "id": "4acc35a3",
   "metadata": {},
   "outputs": [],
   "source": [
    "import numpy as np\n",
    "import cv2 as cv\n",
    "import os\n",
    "# Define a class\n",
    "class CamShift:\n",
    "    def __init__(self, input_video_path):\n",
    "        self.input_video = input_video_path\n",
    "     # Method to start tracking the object \n",
    "    def detect(self):\n",
    "        # video capture object initialization\n",
    "        cam = cv.VideoCapture(self.input_video)\n",
    "        # Capture the frame from the webcam \n",
    "        re, fr = cam.read()\n",
    "        # Extract the coordinates of the selected rectangle\n",
    "        x, y, w, h = 300, 200, 100, 50  \n",
    "         # Extract the tracking window \n",
    "        track_frame = (x, y, w, h)\n",
    "        # set up the ROI for tracking\n",
    "        roisetup = fr[y:y + h, x:x + w]\n",
    "        # Convert the frame to HSV colorspace \n",
    "        hsvcolor_roi = cv.cvtColor(roisetup, cv.COLOR_BGR2HSV)\n",
    "        # Create the mask based on predefined thresholds \n",
    "        colormask = cv.inRange(hsvcolor_roi, np.array((0., 60., 32.)), np.array((180., 255., 255.)))\n",
    "         # Compute the histogram of the region of  \n",
    "                # interest in the HSV image using the mask \n",
    "        roicolor_hist = cv.calcHist([hsvcolor_roi], [0], colormask, [180], [0, 180])\n",
    "        # Normalize and reshape the histogram \n",
    "        cv.normalize(roicolor_hist, roicolor_hist, 0, 255, cv.NORM_MINMAX)\n",
    "        # Define termination criteria for the tracker \n",
    "        termination_crit = (cv.TERM_CRITERIA_EPS | cv.TERM_CRITERIA_COUNT, 10, 1)\n",
    "        # Iterate until the user presses the Esc key \n",
    "        while (1):\n",
    "            re, fr = cam.read()\n",
    "            if re == True:\n",
    "                hsvcolor = cv.cvtColor(fr, cv.COLOR_BGR2HSV)\n",
    "                 # Compute the histogram back projection \n",
    "                dstcolor = cv.calcBackProject([hsvcolor], [0], roicolor_hist, [0, 180], 1)\n",
    "                # apply CamShift \n",
    "                re, track_frame = cv.CamShift(dstcolor, track_frame, termination_crit)\n",
    "                # Draw it on image\n",
    "                pts = cv.boxPoints(re)\n",
    "                pts = np.int0(pts)\n",
    "                img2 = cv.polylines(fr, [pts], True, 255, 2)\n",
    "                cv.imshow('img2', img2)\n",
    "                k = cv.waitKey(30) & 0xff\n",
    "                if k == 27:\n",
    "                    break\n",
    "            else:\n",
    "                break"
   ]
  },
  {
   "cell_type": "code",
   "execution_count": 7,
   "id": "f6bf4bc9",
   "metadata": {},
   "outputs": [],
   "source": [
    "\n",
    "### 3. CamShift ###\n",
    "input_video = os.path.join('videoplayback.mp4')\n",
    "camshift_obj=CamShift(input_video)\n",
    "camshift_obj.detect()"
   ]
  },
  {
   "cell_type": "code",
   "execution_count": null,
   "id": "a56df199",
   "metadata": {},
   "outputs": [],
   "source": []
  }
 ],
 "metadata": {
  "kernelspec": {
   "display_name": "Python 3",
   "language": "python",
   "name": "python3"
  },
  "language_info": {
   "codemirror_mode": {
    "name": "ipython",
    "version": 3
   },
   "file_extension": ".py",
   "mimetype": "text/x-python",
   "name": "python",
   "nbconvert_exporter": "python",
   "pygments_lexer": "ipython3",
   "version": "3.8.8"
  }
 },
 "nbformat": 4,
 "nbformat_minor": 5
}
