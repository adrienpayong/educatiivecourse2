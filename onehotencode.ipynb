{
  "nbformat": 4,
  "nbformat_minor": 0,
  "metadata": {
    "colab": {
      "name": "onehotencode.ipynb",
      "provenance": [],
      "authorship_tag": "ABX9TyMhJAfXGpXZXTFl9Upry2Id",
      "include_colab_link": true
    },
    "kernelspec": {
      "name": "python3",
      "display_name": "Python 3"
    },
    "language_info": {
      "name": "python"
    }
  },
  "cells": [
    {
      "cell_type": "markdown",
      "metadata": {
        "id": "view-in-github",
        "colab_type": "text"
      },
      "source": [
        "<a href=\"https://colab.research.google.com/github/adrienpayong/educatiivecourse2/blob/main/onehotencode.ipynb\" target=\"_parent\"><img src=\"https://colab.research.google.com/assets/colab-badge.svg\" alt=\"Open In Colab\"/></a>"
      ]
    },
    {
      "cell_type": "code",
      "source": [
        "## Import the required libraries\n",
        "from tensorflow.keras.datasets import mnist\n",
        "from matplotlib import pyplot as plt\n",
        "from tensorflow.keras.utils import to_categorical"
      ],
      "metadata": {
        "id": "zWj0M5-stZLx"
      },
      "execution_count": null,
      "outputs": []
    },
    {
      "cell_type": "code",
      "execution_count": null,
      "metadata": {
        "id": "IiW8foW4sQ86"
      },
      "outputs": [],
      "source": [
        "# Function to reshape data \n",
        "def data_reshape(data, shape):\n",
        "    if len(shape)==4 :\n",
        "        reshape_data=data.reshape(shape[0], shape[1], shape[2], shape[3])\n",
        "        return reshape_data\n",
        "    else:\n",
        "        print(\"The length of reshape array is not 4\")"
      ]
    },
    {
      "cell_type": "code",
      "source": [
        "#Loading MNIST dataset\n",
        "(X_train, y_train), (X_test, y_test) = mnist.load_data()\n",
        "reshape_train_size= list(X_train.shape)\n",
        "reshape_train_size.append(1)\n",
        "X_train=data_reshape(X_train, reshape_train_size)\n",
        "reshape_test_size= list(X_test.shape)\n",
        "reshape_test_size.append(1)\n",
        "X_test=data_reshape(X_test, reshape_test_size)\n"
      ],
      "metadata": {
        "id": "qGNAgDnCtUdq"
      },
      "execution_count": null,
      "outputs": []
    },
    {
      "cell_type": "code",
      "source": [
        "\n",
        "# Function to convert numerical data to catgorical\n",
        "def convert_to_cat(data,labels):\n",
        "    if labels!=0:\n",
        "        data_cat = to_categorical(data, labels)\n",
        "        return data_cat\n",
        "    else:\n",
        "        print(\"The value for label can not be 0\")    "
      ],
      "metadata": {
        "id": "PfzYz4OJxqP1"
      },
      "execution_count": null,
      "outputs": []
    },
    {
      "cell_type": "code",
      "source": [
        "# Converting numerical variables to categoriacl variables in test dataset\n",
        "n_label=10\n",
        "y_cat_train=convert_to_cat(y_train, n_label)\n",
        "y_cat_test=convert_to_cat(y_test, n_label)"
      ],
      "metadata": {
        "id": "UIHRTvUgv4FC"
      },
      "execution_count": null,
      "outputs": []
    },
    {
      "cell_type": "code",
      "source": [
        ""
      ],
      "metadata": {
        "id": "LeqF0AwMtUl_"
      },
      "execution_count": null,
      "outputs": []
    }
  ]
}